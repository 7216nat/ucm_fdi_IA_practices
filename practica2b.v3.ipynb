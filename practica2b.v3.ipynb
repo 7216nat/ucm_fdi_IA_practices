{
 "cells": [
  {
   "cell_type": "code",
   "execution_count": 80,
   "metadata": {},
   "outputs": [],
   "source": [
    "# importamos las cosas que vamos a usar de aima\n",
    "#Xukai Chen; Mario Daniel Gallardo G09\n",
    "from search import *\n",
    "import itertools\n",
    "import math\n",
    "class ProblemaAscensores(Problem):\n",
    "    def __init__(self, initial, goal):\n",
    "        self.goal = goal\n",
    "        self.initial = initial\n",
    "        self.analizados = 0\n",
    "        Problem.__init__(self, initial, goal)\n",
    "        #initial = ( (pisos de las personas),(0el piso que situa ascensor, 1range inicio de ascensor, 2range final de ascensor,\n",
    "        #            3booleano de que si lleva persona, 4posicion de persona en la lista de personas, 5destino piso a llegar),... los demas ascensores )\n",
    "        \n",
    "    def goal_test(self,estado): \n",
    "        self.analizados += 1\n",
    "        if (estado[0] == self.goal):\n",
    "            j = False\n",
    "            for i in estado[1:]:\n",
    "                if i[3]==1:\n",
    "                    j = j or True\n",
    "            if j == False:\n",
    "                return True\n",
    "        return False\n",
    "    \n",
    "    def listaDeNoLlegados(self, estado):\n",
    "        # lista de las personas que no han llegado a su destino y que no estén en un ascensor\n",
    "        lista_final = list()\n",
    "        lista_de_pos_nollegados = list()\n",
    "        lista_de_pers_en_asc = list()\n",
    "        for i in range(len(estado[1:])):\n",
    "            if estado[i+1][3] == 1:\n",
    "                lista_de_pers_en_asc.append(estado[i+1][4])        \n",
    "        for i in range(len(estado[0])):\n",
    "            if estado[0][i] != self.goal[i] and i not in lista_de_pers_en_asc:\n",
    "                lista_de_pos_nollegados.append(i)\n",
    "        lista_de_nollegados = [estado[0][i] for i in lista_de_pos_nollegados]\n",
    "        lista_final.append(lista_de_nollegados)\n",
    "        lista_final.append(lista_de_pos_nollegados)\n",
    "        return lista_final\n",
    "    \n",
    "    def persAEntrar(self, asc, estado):\n",
    "        #dentro de la lista devuelta por fun(listaDeNoLlegados) si hay alguien que cumpla la condicion\n",
    "        #para subirse al ascensor\n",
    "        lista_de_nollegados = self.listaDeNoLlegados(estado)\n",
    "        despl = 0\n",
    "        while asc[0] in lista_de_nollegados[0][despl:]:\n",
    "            pos = lista_de_nollegados[0][despl:].index(asc[0])\n",
    "            destino = self.goal[lista_de_nollegados[1][pos]]\n",
    "            if (asc[0] < asc[2] and asc[0] < destino) or (asc[0] > asc[1] and asc[0] > destino):\n",
    "                return True\n",
    "            despl += 1 + pos\n",
    "        return False\n",
    "    def actions(self, estado):\n",
    "        acs = list()\n",
    "        accs = list()\n",
    "        \n",
    "        lista_de_nollegados = self.listaDeNoLlegados(estado)\n",
    "        for asc in estado[1:]:\n",
    "            accaux = list()\n",
    "            if asc[3] == 0:\n",
    "                if self.persAEntrar(asc, estado):\n",
    "                    accaux.append(\"entrar\")\n",
    "                else:\n",
    "                    pos_por_encima = list(filter(lambda x: (x >asc[0] and x <= asc[2]), lista_de_nollegados[0]))\n",
    "                    pos_por_abajo = list(filter(lambda x: (x <asc[0] and x >= asc[1]), lista_de_nollegados[0]))\n",
    "                    if len(pos_por_encima)>0:\n",
    "                        accaux.append(\"subir\")\n",
    "                    if len(pos_por_abajo)>0:\n",
    "                        accaux.append(\"bajar\")\n",
    "                    if len(pos_por_encima) == 0 and len(pos_por_abajo) == 0:\n",
    "                        accaux.append(\"nada\")\n",
    "            elif asc[3] == 1:\n",
    "                if asc[0] == asc[5] or (asc[5]> asc[2] and asc[0] == asc[2]) or (asc[5] < asc[1] and asc[0] == asc[1]):\n",
    "                    accaux.append(\"salir\")\n",
    "                 \n",
    "                elif asc[0] < asc[5] and asc[0] < asc[2]:\n",
    "                    accaux.append(\"subir\")\n",
    "                elif asc[0] > asc[5] and asc[0] > asc[1]:\n",
    "                    accaux.append(\"bajar\")\n",
    "            accs.append(accaux)\n",
    "            del accaux\n",
    "        for i in itertools.product(*accs):\n",
    "            acs.append(i)\n",
    "        return acs\n",
    "    \n",
    "    def result(self, estado, a):\n",
    "        tup = list()\n",
    "        list_estado = [list(i) for i in estado]\n",
    "        idc = 1\n",
    "        for acc in a:\n",
    "            asc = list(estado[idc])\n",
    "            if acc == \"entrar\":\n",
    "                lista_de_nollegados = self.listaDeNoLlegados(list_estado)\n",
    "                if asc[0] in lista_de_nollegados[0]:\n",
    "                    despl=0\n",
    "                    while asc[0] in lista_de_nollegados[0][despl:]:\n",
    "                        pers = lista_de_nollegados[0][despl:].index(asc[0])\n",
    "                        pos = lista_de_nollegados[1][despl:][pers]\n",
    "                        despl += pers + 1\n",
    "                        if (asc[0] < asc[2] and asc[0]<self.goal[pos]) or (asc[0] > asc[1] and asc[0]>self.goal[pos]):\n",
    "                            asc[3] = 1\n",
    "                            asc[4] = pos\n",
    "                            asc[5] = self.goal[pos]\n",
    "                            break\n",
    "            elif acc == \"salir\":\n",
    "                asc[3] = 0\n",
    "            elif acc == \"subir\":\n",
    "                asc[0] += 1\n",
    "                if asc[3] == 1:\n",
    "                    pos_pers = asc[4]\n",
    "                    list_estado[0][pos_pers] = asc[0]\n",
    "            elif acc == \"bajar\":\n",
    "                asc[0] -= 1\n",
    "                if asc[3] == 1:\n",
    "                    pos_pers = asc[4]\n",
    "                    list_estado[0][pos_pers] = asc[0]\n",
    "            list_estado[idc] = asc\n",
    "            del asc\n",
    "            idc += 1\n",
    "        for i in list_estado:\n",
    "            aux = tuple(i)\n",
    "            tup.append(aux)\n",
    "        return tuple(tup)\n"
   ]
  },
  {
   "cell_type": "code",
   "execution_count": 71,
   "metadata": {},
   "outputs": [],
   "source": [
    "#ascensores = ProblemaAscensores(((2,6,9),(0,0,7,0,0,0),(9,7,12,0,0,0)),(0,12,7)) \n",
    "#breadth_first_graph_search(ascensores).solution()\n",
    "def h1(node):\n",
    "    h = 0\n",
    "    estado = node.state\n",
    "    goal = (3,11,12,1,9)\n",
    "    for i in range(len(estado[0])):\n",
    "        h += abs(estado[0][i] - goal[i])\n",
    "    return h\n",
    "def llevaPersona(estado):\n",
    "    for i in estado[1:]:\n",
    "        if i[3] == 1:\n",
    "            return True\n",
    "    return False\n",
    "def h2(node):\n",
    "    h = 0\n",
    "    goal = (3,11,12,1,9)\n",
    "    estado = node.state\n",
    "    if llevaPersona == False:\n",
    "        lista = [x[3] for x in estado[1:]]\n",
    "        h += min([abs(x-y) for x in estado[0] for y in lista])\n",
    "    #se divide entre 5 porque la longitud del rango de ascensor es de 5\n",
    "    aux1 = sum(map(lambda x,y: 2*(math.ceil(abs(x-y)/5)), estado[0],goal))\n",
    "    h += h1(node)/len(estado[1:]) + aux1\n",
    "    return h\n"
   ]
  },
  {
   "cell_type": "code",
   "execution_count": 72,
   "metadata": {},
   "outputs": [],
   "source": [
    "def resuelve_ascensores(estado_inicial, algoritmo, h=None):\n",
    "\n",
    "    ascensores=ProblemaAscensores(estado_inicial[0],estado_inicial[1])\n",
    "    if h: \n",
    "        sol= algoritmo(ascensores,h).solution()\n",
    "    else: \n",
    "        sol= algoritmo(ascensores).solution()\n",
    "    print(\"Solución: {0}\".format(sol))\n",
    "    print(\"Algoritmo: {0}\".format(algoritmo.__name__))\n",
    "    if h: \n",
    "        print(\"Heurística: {0}\".format(h.__name__))\n",
    "    else:\n",
    "        pass\n",
    "    print(\"Longitud de la solución: {0}. Nodos analizados: {1}\".format(len(sol),ascensores.analizados))"
   ]
  },
  {
   "cell_type": "code",
   "execution_count": 81,
   "metadata": {},
   "outputs": [
    {
     "name": "stdout",
     "output_type": "stream",
     "text": [
      "Wall time: 0 ns\n"
     ]
    }
   ],
   "source": [
    "%%time\n",
    "problema = ProblemaAscensores(((2,4,1,8,1),(0,0,4,0,0,0),(5,4,8,0,0,0),(5,4,8,0,0,0),(9,8,12,0,0,0)),(3,11,12,1,9))"
   ]
  },
  {
   "cell_type": "code",
   "execution_count": 82,
   "metadata": {},
   "outputs": [],
   "source": [
    "E1 = (((2,4,1,8,1),(0,0,4,0,0,0),(5,4,8,0,0,0),(5,4,8,0,0,0),(9,8,12,0,0,0)),(3,11,12,1,9))"
   ]
  },
  {
   "cell_type": "code",
   "execution_count": 83,
   "metadata": {
    "scrolled": false
   },
   "outputs": [
    {
     "name": "stdout",
     "output_type": "stream",
     "text": [
      "Solución: [('subir', 'bajar', 'bajar', 'bajar'), ('entrar', 'entrar', 'entrar', 'nada'), ('subir', 'subir', 'subir', 'nada'), ('subir', 'subir', 'subir', 'nada'), ('subir', 'subir', 'subir', 'nada'), ('salir', 'subir', 'subir', 'nada'), ('bajar', 'salir', 'entrar', 'nada'), ('bajar', 'bajar', 'bajar', 'entrar'), ('entrar', 'bajar', 'bajar', 'subir'), ('subir', 'bajar', 'bajar', 'subir'), ('salir', 'bajar', 'bajar', 'subir'), ('bajar', 'entrar', 'salir', 'salir'), ('bajar', 'subir', 'nada', 'nada'), ('entrar', 'subir', 'nada', 'nada'), ('subir', 'subir', 'nada', 'nada'), ('subir', 'subir', 'nada', 'nada'), ('subir', 'salir', 'nada', 'nada'), ('salir', 'bajar', 'subir', 'bajar'), ('entrar', 'bajar', 'bajar', 'bajar'), ('bajar', 'bajar', 'entrar', 'bajar'), ('bajar', 'subir', 'subir', 'entrar'), ('bajar', 'nada', 'subir', 'subir'), ('salir', 'nada', 'subir', 'subir'), ('nada', 'nada', 'subir', 'subir'), ('nada', 'nada', 'salir', 'subir'), ('nada', 'subir', 'nada', 'salir'), ('nada', 'subir', 'nada', 'bajar'), ('nada', 'nada', 'nada', 'bajar'), ('nada', 'nada', 'nada', 'bajar'), ('nada', 'nada', 'nada', 'bajar'), ('nada', 'nada', 'nada', 'entrar'), ('nada', 'nada', 'nada', 'subir'), ('nada', 'nada', 'nada', 'salir')]\n",
      "Algoritmo: depth_first_graph_search\n",
      "Longitud de la solución: 33. Nodos analizados: 34\n",
      "Wall time: 3.99 ms\n"
     ]
    }
   ],
   "source": [
    "%%time\n",
    "resuelve_ascensores(E1,depth_first_graph_search)"
   ]
  },
  {
   "cell_type": "code",
   "execution_count": 84,
   "metadata": {},
   "outputs": [
    {
     "name": "stdout",
     "output_type": "stream",
     "text": [
      "Solución: [('subir', 'subir', 'subir', 'bajar'), ('entrar', 'subir', 'subir', 'nada'), ('subir', 'subir', 'bajar', 'nada'), ('subir', 'entrar', 'bajar', 'nada'), ('subir', 'bajar', 'bajar', 'nada'), ('salir', 'bajar', 'entrar', 'nada'), ('bajar', 'bajar', 'subir', 'nada'), ('bajar', 'bajar', 'subir', 'nada'), ('entrar', 'salir', 'subir', 'nada'), ('subir', 'entrar', 'subir', 'nada'), ('salir', 'subir', 'salir', 'nada'), ('bajar', 'subir', 'bajar', 'entrar'), ('bajar', 'subir', 'bajar', 'subir'), ('entrar', 'subir', 'bajar', 'subir'), ('subir', 'salir', 'bajar', 'subir'), ('subir', 'bajar', 'subir', 'salir'), ('subir', 'subir', 'subir', 'bajar'), ('salir', 'bajar', 'bajar', 'bajar'), ('entrar', 'subir', 'bajar', 'bajar'), ('bajar', 'bajar', 'entrar', 'entrar'), ('bajar', 'nada', 'subir', 'subir'), ('bajar', 'nada', 'subir', 'subir'), ('salir', 'nada', 'subir', 'subir'), ('nada', 'nada', 'subir', 'subir'), ('nada', 'nada', 'salir', 'salir'), ('nada', 'subir', 'nada', 'bajar'), ('nada', 'nada', 'nada', 'bajar'), ('nada', 'nada', 'nada', 'bajar'), ('nada', 'nada', 'nada', 'bajar'), ('nada', 'nada', 'nada', 'entrar'), ('nada', 'nada', 'nada', 'subir'), ('nada', 'nada', 'nada', 'salir')]\n",
      "Algoritmo: breadth_first_graph_search\n",
      "Longitud de la solución: 32. Nodos analizados: 11013\n",
      "Wall time: 5.61 s\n"
     ]
    }
   ],
   "source": [
    "%%time\n",
    "resuelve_ascensores(E1,breadth_first_graph_search)"
   ]
  },
  {
   "cell_type": "code",
   "execution_count": 85,
   "metadata": {},
   "outputs": [
    {
     "name": "stdout",
     "output_type": "stream",
     "text": [
      "Solución: [('subir', 'bajar', 'subir', 'bajar'), ('entrar', 'entrar', 'subir', 'nada'), ('subir', 'subir', 'subir', 'nada'), ('subir', 'subir', 'entrar', 'nada'), ('subir', 'subir', 'bajar', 'nada'), ('salir', 'subir', 'bajar', 'nada'), ('bajar', 'salir', 'bajar', 'nada'), ('bajar', 'bajar', 'bajar', 'entrar'), ('entrar', 'bajar', 'salir', 'subir'), ('subir', 'bajar', 'entrar', 'subir'), ('salir', 'bajar', 'subir', 'subir'), ('bajar', 'nada', 'subir', 'salir'), ('bajar', 'nada', 'subir', 'nada'), ('entrar', 'nada', 'subir', 'nada'), ('subir', 'nada', 'salir', 'nada'), ('subir', 'subir', 'bajar', 'bajar'), ('subir', 'bajar', 'bajar', 'bajar'), ('salir', 'subir', 'bajar', 'bajar'), ('entrar', 'subir', 'bajar', 'entrar'), ('bajar', 'bajar', 'entrar', 'subir'), ('bajar', 'nada', 'subir', 'subir'), ('bajar', 'nada', 'subir', 'subir'), ('salir', 'nada', 'subir', 'subir'), ('nada', 'nada', 'subir', 'salir'), ('nada', 'nada', 'salir', 'nada'), ('nada', 'subir', 'nada', 'bajar'), ('nada', 'subir', 'nada', 'bajar'), ('nada', 'subir', 'nada', 'bajar'), ('nada', 'nada', 'nada', 'bajar'), ('nada', 'nada', 'nada', 'entrar'), ('nada', 'nada', 'nada', 'subir'), ('nada', 'nada', 'nada', 'salir')]\n",
      "Algoritmo: uniform_cost_search\n",
      "Longitud de la solución: 32. Nodos analizados: 11083\n",
      "Wall time: 11.3 s\n"
     ]
    }
   ],
   "source": [
    "%%time\n",
    "resuelve_ascensores(E1,uniform_cost_search)"
   ]
  },
  {
   "cell_type": "code",
   "execution_count": 86,
   "metadata": {},
   "outputs": [
    {
     "name": "stdout",
     "output_type": "stream",
     "text": [
      "Solución: [('subir', 'bajar', 'bajar', 'bajar'), ('entrar', 'entrar', 'entrar', 'nada'), ('subir', 'subir', 'subir', 'nada'), ('subir', 'subir', 'subir', 'nada'), ('subir', 'subir', 'subir', 'nada'), ('salir', 'subir', 'subir', 'nada'), ('bajar', 'salir', 'entrar', 'nada'), ('bajar', 'bajar', 'bajar', 'entrar'), ('entrar', 'bajar', 'bajar', 'subir'), ('subir', 'bajar', 'bajar', 'subir'), ('salir', 'bajar', 'bajar', 'subir'), ('bajar', 'entrar', 'salir', 'salir'), ('bajar', 'subir', 'nada', 'nada'), ('entrar', 'subir', 'nada', 'nada'), ('subir', 'subir', 'nada', 'nada'), ('subir', 'subir', 'nada', 'nada'), ('subir', 'salir', 'nada', 'nada'), ('salir', 'bajar', 'subir', 'bajar'), ('entrar', 'bajar', 'bajar', 'bajar'), ('bajar', 'bajar', 'entrar', 'bajar'), ('bajar', 'subir', 'subir', 'entrar'), ('bajar', 'nada', 'subir', 'subir'), ('salir', 'nada', 'subir', 'subir'), ('nada', 'nada', 'subir', 'subir'), ('nada', 'nada', 'salir', 'subir'), ('nada', 'subir', 'nada', 'salir'), ('nada', 'subir', 'nada', 'bajar'), ('nada', 'nada', 'nada', 'bajar'), ('nada', 'nada', 'nada', 'bajar'), ('nada', 'nada', 'nada', 'bajar'), ('nada', 'nada', 'nada', 'entrar'), ('nada', 'nada', 'nada', 'subir'), ('nada', 'nada', 'nada', 'salir')]\n",
      "Algoritmo: astar_search\n",
      "Heurística: h1\n",
      "Longitud de la solución: 33. Nodos analizados: 304\n",
      "Wall time: 51.8 ms\n"
     ]
    }
   ],
   "source": [
    "%%time\n",
    "resuelve_ascensores(E1,astar_search, h1)"
   ]
  },
  {
   "cell_type": "code",
   "execution_count": 87,
   "metadata": {},
   "outputs": [
    {
     "name": "stdout",
     "output_type": "stream",
     "text": [
      "Solución: [('subir', 'bajar', 'subir', 'bajar'), ('entrar', 'entrar', 'subir', 'nada'), ('subir', 'subir', 'subir', 'nada'), ('subir', 'subir', 'entrar', 'nada'), ('subir', 'subir', 'bajar', 'nada'), ('salir', 'subir', 'bajar', 'nada'), ('bajar', 'salir', 'bajar', 'nada'), ('bajar', 'bajar', 'bajar', 'entrar'), ('entrar', 'bajar', 'salir', 'subir'), ('subir', 'bajar', 'entrar', 'subir'), ('salir', 'bajar', 'subir', 'subir'), ('bajar', 'nada', 'subir', 'salir'), ('bajar', 'nada', 'subir', 'nada'), ('entrar', 'nada', 'subir', 'nada'), ('subir', 'nada', 'salir', 'nada'), ('subir', 'subir', 'bajar', 'bajar'), ('subir', 'bajar', 'bajar', 'bajar'), ('salir', 'subir', 'bajar', 'bajar'), ('entrar', 'subir', 'bajar', 'entrar'), ('bajar', 'bajar', 'entrar', 'subir'), ('bajar', 'nada', 'subir', 'subir'), ('bajar', 'nada', 'subir', 'subir'), ('salir', 'nada', 'subir', 'subir'), ('nada', 'nada', 'subir', 'salir'), ('nada', 'nada', 'salir', 'nada'), ('nada', 'subir', 'nada', 'bajar'), ('nada', 'subir', 'nada', 'bajar'), ('nada', 'subir', 'nada', 'bajar'), ('nada', 'nada', 'nada', 'bajar'), ('nada', 'nada', 'nada', 'entrar'), ('nada', 'nada', 'nada', 'subir'), ('nada', 'nada', 'nada', 'salir')]\n",
      "Algoritmo: astar_search\n",
      "Heurística: h2\n",
      "Longitud de la solución: 32. Nodos analizados: 3495\n",
      "Wall time: 1.79 s\n"
     ]
    }
   ],
   "source": [
    "%%time\n",
    "resuelve_ascensores(E1,astar_search, h2)"
   ]
  },
  {
   "cell_type": "code",
   "execution_count": 88,
   "metadata": {},
   "outputs": [
    {
     "name": "stdout",
     "output_type": "stream",
     "text": [
      "Solución: [('subir', 'bajar', 'bajar', 'bajar'), ('entrar', 'entrar', 'entrar', 'nada'), ('subir', 'subir', 'subir', 'nada'), ('subir', 'subir', 'subir', 'nada'), ('subir', 'subir', 'subir', 'nada'), ('salir', 'subir', 'subir', 'nada'), ('bajar', 'salir', 'entrar', 'nada'), ('bajar', 'bajar', 'bajar', 'entrar'), ('entrar', 'bajar', 'bajar', 'subir'), ('subir', 'bajar', 'bajar', 'subir'), ('salir', 'bajar', 'bajar', 'subir'), ('bajar', 'entrar', 'salir', 'salir'), ('bajar', 'subir', 'nada', 'nada'), ('entrar', 'subir', 'nada', 'nada'), ('subir', 'subir', 'nada', 'nada'), ('subir', 'subir', 'nada', 'nada'), ('subir', 'salir', 'nada', 'nada'), ('salir', 'bajar', 'subir', 'bajar'), ('entrar', 'bajar', 'bajar', 'bajar'), ('bajar', 'bajar', 'entrar', 'bajar'), ('bajar', 'subir', 'subir', 'entrar'), ('bajar', 'nada', 'subir', 'subir'), ('salir', 'nada', 'subir', 'subir'), ('nada', 'nada', 'subir', 'subir'), ('nada', 'nada', 'salir', 'subir'), ('nada', 'subir', 'nada', 'salir'), ('nada', 'subir', 'nada', 'bajar'), ('nada', 'nada', 'nada', 'bajar'), ('nada', 'nada', 'nada', 'bajar'), ('nada', 'nada', 'nada', 'bajar'), ('nada', 'nada', 'nada', 'entrar'), ('nada', 'nada', 'nada', 'subir'), ('nada', 'nada', 'nada', 'salir')]\n",
      "Algoritmo: best_first_graph_search\n",
      "Heurística: h2\n",
      "Longitud de la solución: 33. Nodos analizados: 37\n",
      "Wall time: 6.98 ms\n"
     ]
    }
   ],
   "source": [
    "%%time\n",
    "resuelve_ascensores(E1,best_first_graph_search, h2)"
   ]
  },
  {
   "cell_type": "code",
   "execution_count": 89,
   "metadata": {},
   "outputs": [
    {
     "name": "stdout",
     "output_type": "stream",
     "text": [
      "Solución: [('subir', 'bajar', 'bajar', 'bajar'), ('entrar', 'entrar', 'entrar', 'nada'), ('subir', 'subir', 'subir', 'nada'), ('subir', 'subir', 'subir', 'nada'), ('subir', 'subir', 'subir', 'nada'), ('salir', 'subir', 'subir', 'nada'), ('bajar', 'salir', 'entrar', 'nada'), ('bajar', 'bajar', 'bajar', 'entrar'), ('entrar', 'bajar', 'bajar', 'subir'), ('subir', 'bajar', 'bajar', 'subir'), ('salir', 'bajar', 'bajar', 'subir'), ('bajar', 'entrar', 'salir', 'salir'), ('bajar', 'subir', 'nada', 'nada'), ('entrar', 'subir', 'nada', 'nada'), ('subir', 'subir', 'nada', 'nada'), ('subir', 'subir', 'nada', 'nada'), ('subir', 'salir', 'nada', 'nada'), ('salir', 'bajar', 'subir', 'bajar'), ('entrar', 'bajar', 'bajar', 'bajar'), ('bajar', 'bajar', 'entrar', 'bajar'), ('bajar', 'subir', 'subir', 'entrar'), ('bajar', 'nada', 'subir', 'subir'), ('salir', 'nada', 'subir', 'subir'), ('nada', 'nada', 'subir', 'subir'), ('nada', 'nada', 'salir', 'subir'), ('nada', 'subir', 'nada', 'salir'), ('nada', 'subir', 'nada', 'bajar'), ('nada', 'nada', 'nada', 'bajar'), ('nada', 'nada', 'nada', 'bajar'), ('nada', 'nada', 'nada', 'bajar'), ('nada', 'nada', 'nada', 'entrar'), ('nada', 'nada', 'nada', 'subir'), ('nada', 'nada', 'nada', 'salir')]\n",
      "Algoritmo: best_first_graph_search\n",
      "Heurística: h1\n",
      "Longitud de la solución: 33. Nodos analizados: 37\n",
      "Wall time: 6.98 ms\n"
     ]
    }
   ],
   "source": [
    "%%time\n",
    "resuelve_ascensores(E1,best_first_graph_search, h1)"
   ]
  }
 ],
 "metadata": {
  "kernelspec": {
   "display_name": "Python 3",
   "language": "python",
   "name": "python3"
  },
  "language_info": {
   "codemirror_mode": {
    "name": "ipython",
    "version": 3
   },
   "file_extension": ".py",
   "mimetype": "text/x-python",
   "name": "python",
   "nbconvert_exporter": "python",
   "pygments_lexer": "ipython3",
   "version": "3.7.4"
  }
 },
 "nbformat": 4,
 "nbformat_minor": 2
}
