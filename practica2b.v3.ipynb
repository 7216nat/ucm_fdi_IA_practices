{
 "cells": [
  {
   "cell_type": "code",
   "execution_count": null,
   "metadata": {},
   "outputs": [],
   "source": []
  },
  {
   "cell_type": "code",
   "execution_count": 6,
   "metadata": {},
   "outputs": [],
   "source": [
    "# importamos las cosas que vamos a usar de aima\n",
    "from search import *\n",
    "import itertools\n",
    "class ProblemaAscensores(Problem):\n",
    "    def __init__(self, initial, goal):\n",
    "        self.goal = goal\n",
    "        self.initial = initial\n",
    "        self.analizados = 0\n",
    "        Problem.__init__(self, initial, goal)\n",
    "        #initial = ( (pisos de las personas),(0el piso que situa ascensor, 1range inicio de ascensor, 2range final de ascensor,\n",
    "        #            3booleano de que si lleva persona, 4posicion de persona en la lista de personas, 5destino piso a llegar),... los demas ascensores )\n",
    "        \n",
    "    def goal_test(self,estado): \n",
    "        self.analizados += 1\n",
    "        if (estado[0] == self.goal):\n",
    "            j = False\n",
    "            for i in estado[1:]:\n",
    "                if i[3]==1:\n",
    "                    j = j or True\n",
    "            if j == False:\n",
    "                return True\n",
    "        return False\n",
    "    \n",
    "    def listaDeNoLlegados(self, estado):\n",
    "        # lista de las personas que no han llegado a su destino\n",
    "        lista_final = list()\n",
    "        lista_de_nollegados = list()\n",
    "        lista_de_pers_en_asc = list()\n",
    "        lista_de_pos_nollegados = list()\n",
    "        for i in range(len(estado[1:])):\n",
    "            if estado[i+1][3] == 1:\n",
    "                lista_de_pers_en_asc.append(estado[i+1][4])        \n",
    "        for i in range(len(estado[0])):\n",
    "            if estado[0][i] != self.goal[i] and i not in lista_de_pers_en_asc:\n",
    "                lista_de_pos_nollegados.append(i)\n",
    "        for i in lista_de_pos_nollegados:\n",
    "            lista_de_nollegados.append(estado[0][i])\n",
    "        lista_final.append(lista_de_nollegados)\n",
    "        lista_final.append(lista_de_pos_nollegados)\n",
    "        return lista_final\n",
    "    \n",
    "    def actions(self, estado):\n",
    "        acs = list()\n",
    "        accs = list()\n",
    "        \n",
    "        lista_de_nollegados = self.listaDeNoLlegados(estado)\n",
    "        for asc in estado[1:]:\n",
    "            accaux = list()\n",
    "            if asc[3] == 0:\n",
    "                if asc[0] in lista_de_nollegados[0]:\n",
    "                    destino = self.goal[lista_de_nollegados[1][lista_de_nollegados[0].index(asc[0])]]\n",
    "                if asc[0] in lista_de_nollegados[0] and ((asc[0] < asc[2] and asc[0] < destino) or (asc[0] > asc[1] and asc[0] > destino)):\n",
    "                    accaux.append(\"entrar\")\n",
    "                else:\n",
    "                    pos_por_encima = list(filter(lambda x: (x >asc[0] and x <= asc[2]), lista_de_nollegados[0]))\n",
    "                    pos_por_abajo = list(filter(lambda x: (x <asc[0] and x >= asc[1]), lista_de_nollegados[0]))\n",
    "                    if len(pos_por_encima)>0:\n",
    "                        accaux.append(\"subir\")\n",
    "                    if len(pos_por_abajo)>0:\n",
    "                        accaux.append(\"bajar\")\n",
    "                    if len(pos_por_encima) == 0 and len(pos_por_abajo) == 0:\n",
    "                        accaux.append(\"nada\")\n",
    "            elif asc[3] == 1:\n",
    "                if asc[0] == asc[5] or (asc[5]> asc[2] and asc[0] == asc[2]) or (asc[5] < asc[1] and asc[0] == asc[1]):\n",
    "                    accaux.append(\"salir\")\n",
    "                 \n",
    "                elif asc[0] < asc[5] and asc[0] < asc[2]:\n",
    "                    accaux.append(\"subir\")\n",
    "                elif asc[0] > asc[5] and asc[0] > asc[1]:\n",
    "                    accaux.append(\"bajar\")\n",
    "            accs.append(accaux)\n",
    "            del accaux\n",
    "        for i in itertools.product(*accs):\n",
    "            acs.append(i)\n",
    "        return acs\n",
    "    \n",
    "    def result(self, estado, a):\n",
    "        tup = list()\n",
    "        list_estado = list()\n",
    "        for i in estado:\n",
    "            list_estado.append(list(i))\n",
    "        idc = 1\n",
    "        for acc in a:\n",
    "            asc = list(estado[idc])\n",
    "            if acc == \"entrar\":\n",
    "                lista_de_nollegados = self.listaDeNoLlegados(list_estado)\n",
    "                if asc[0] in lista_de_nollegados[0]:\n",
    "                    pers = lista_de_nollegados[0].index(asc[0])\n",
    "                    pos = lista_de_nollegados[1][pers]\n",
    "                    asc[3] = 1\n",
    "                    asc[4] = pos\n",
    "                    asc[5] = self.goal[pos]\n",
    "            elif acc == \"salir\":\n",
    "                asc[3] = 0\n",
    "            elif acc == \"subir\":\n",
    "                asc[0] += 1\n",
    "                if asc[3] == 1:\n",
    "                    pos_pers = asc[4]\n",
    "                    list_estado[0][pos_pers] = asc[0]\n",
    "            elif acc == \"bajar\":\n",
    "                asc[0] -= 1\n",
    "                if asc[3] == 1:\n",
    "                    pos_pers = asc[4]\n",
    "                    list_estado[0][pos_pers] = asc[0]\n",
    "            list_estado[idc] = asc\n",
    "            del asc\n",
    "            idc += 1\n",
    "        for i in list_estado:\n",
    "            aux = tuple(i)\n",
    "            tup.append(aux)\n",
    "        return tuple(tup)\n",
    "                            \n",
    "    def h1(node):\n",
    "        h = 0\n",
    "        estado = node.state\n",
    "        lista = node.listaDeNoLlegados(estado)  \n",
    "        for i in range(len(estado[0])):\n",
    "            h += abs(estado[0][i] - goal[i])\n",
    "        "
   ]
  },
  {
   "cell_type": "code",
   "execution_count": 8,
   "metadata": {},
   "outputs": [
    {
     "data": {
      "text/plain": [
       "[('subir', 'entrar'),\n",
       " ('subir', 'bajar'),\n",
       " ('entrar', 'bajar'),\n",
       " ('bajar', 'salir'),\n",
       " ('bajar', 'nada'),\n",
       " ('salir', 'nada'),\n",
       " ('subir', 'nada'),\n",
       " ('subir', 'nada'),\n",
       " ('subir', 'nada'),\n",
       " ('subir', 'nada'),\n",
       " ('subir', 'nada'),\n",
       " ('subir', 'nada'),\n",
       " ('entrar', 'nada'),\n",
       " ('subir', 'nada'),\n",
       " ('salir', 'nada'),\n",
       " ('nada', 'entrar'),\n",
       " ('nada', 'subir'),\n",
       " ('nada', 'subir'),\n",
       " ('nada', 'subir'),\n",
       " ('nada', 'subir'),\n",
       " ('nada', 'subir'),\n",
       " ('nada', 'salir')]"
      ]
     },
     "execution_count": 8,
     "metadata": {},
     "output_type": "execute_result"
    }
   ],
   "source": [
    "ascensores = ProblemaAscensores(((2,6,9),(0,0,7,0,0,0),(9,7,12,0,0,0)),(0,12,7)) \n",
    "breadth_first_graph_search(ascensores).solution()"
   ]
  },
  {
   "cell_type": "code",
   "execution_count": 9,
   "metadata": {},
   "outputs": [
    {
     "data": {
      "text/plain": [
       "[('salir', 'entrar')]"
      ]
     },
     "execution_count": 9,
     "metadata": {},
     "output_type": "execute_result"
    }
   ],
   "source": [
    "ascensores = ProblemaAscensores(((2,7,9),(7,0,7,1,1,12),(9,7,12,0,0,0)),(0,12,7)) \n",
    "ascensores.actions(ascensores.initial)"
   ]
  },
  {
   "cell_type": "code",
   "execution_count": 10,
   "metadata": {},
   "outputs": [
    {
     "data": {
      "text/plain": [
       "((2, 8, 9), (8, 0, 7, 1, 1, 12), (8, 7, 12, 0, 0, 0))"
      ]
     },
     "execution_count": 10,
     "metadata": {},
     "output_type": "execute_result"
    }
   ],
   "source": [
    "ascensores.result(ascensores.initial, ('subir', 'bajar'))"
   ]
  },
  {
   "cell_type": "code",
   "execution_count": 11,
   "metadata": {},
   "outputs": [
    {
     "name": "stdout",
     "output_type": "stream",
     "text": [
      "Wall time: 0 ns\n"
     ]
    }
   ],
   "source": [
    "%%time\n",
    "problema = ProblemaAscensores(((2,4,1,8,1),(0,0,4,0,0,0),(5,4,8,0,0,0),(5,4,8,0,0,0),(9,8,12,0,0,0)),(3,11,12,1,9))"
   ]
  },
  {
   "cell_type": "code",
   "execution_count": 13,
   "metadata": {},
   "outputs": [
    {
     "name": "stdout",
     "output_type": "stream",
     "text": [
      "Wall time: 0 ns\n"
     ]
    },
    {
     "data": {
      "text/plain": [
       "[('subir', 'bajar', 'bajar', 'bajar'),\n",
       " ('entrar', 'entrar', 'entrar', 'nada'),\n",
       " ('subir', 'subir', 'subir', 'nada'),\n",
       " ('subir', 'subir', 'subir', 'nada'),\n",
       " ('subir', 'subir', 'subir', 'nada'),\n",
       " ('salir', 'subir', 'subir', 'nada'),\n",
       " ('bajar', 'salir', 'entrar', 'nada'),\n",
       " ('bajar', 'entrar', 'salir', 'nada'),\n",
       " ('entrar', 'bajar', 'bajar', 'entrar'),\n",
       " ('subir', 'bajar', 'bajar', 'subir'),\n",
       " ('salir', 'bajar', 'bajar', 'subir'),\n",
       " ('bajar', 'bajar', 'bajar', 'subir'),\n",
       " ('bajar', 'salir', 'entrar', 'salir'),\n",
       " ('entrar', 'nada', 'subir', 'nada'),\n",
       " ('subir', 'nada', 'subir', 'nada'),\n",
       " ('subir', 'nada', 'subir', 'nada'),\n",
       " ('subir', 'nada', 'subir', 'nada'),\n",
       " ('salir', 'nada', 'salir', 'nada'),\n",
       " ('entrar', 'subir', 'bajar', 'bajar'),\n",
       " ('bajar', 'bajar', 'bajar', 'bajar'),\n",
       " ('bajar', 'entrar', 'bajar', 'bajar'),\n",
       " ('bajar', 'subir', 'subir', 'entrar'),\n",
       " ('salir', 'subir', 'nada', 'subir'),\n",
       " ('nada', 'subir', 'nada', 'subir'),\n",
       " ('nada', 'subir', 'nada', 'subir'),\n",
       " ('nada', 'salir', 'nada', 'subir'),\n",
       " ('nada', 'nada', 'subir', 'salir'),\n",
       " ('nada', 'nada', 'subir', 'bajar'),\n",
       " ('nada', 'nada', 'nada', 'bajar'),\n",
       " ('nada', 'nada', 'nada', 'bajar'),\n",
       " ('nada', 'nada', 'nada', 'bajar'),\n",
       " ('nada', 'nada', 'nada', 'entrar'),\n",
       " ('nada', 'nada', 'nada', 'subir'),\n",
       " ('nada', 'nada', 'nada', 'salir')]"
      ]
     },
     "execution_count": 13,
     "metadata": {},
     "output_type": "execute_result"
    }
   ],
   "source": [
    "%%time\n",
    "depth_first_graph_search(problema).solution()"
   ]
  },
  {
   "cell_type": "code",
   "execution_count": 15,
   "metadata": {},
   "outputs": [
    {
     "name": "stdout",
     "output_type": "stream",
     "text": [
      "Wall time: 18.8 s\n"
     ]
    },
    {
     "data": {
      "text/plain": [
       "[('subir', 'bajar', 'subir', 'bajar'),\n",
       " ('entrar', 'entrar', 'subir', 'nada'),\n",
       " ('subir', 'subir', 'subir', 'nada'),\n",
       " ('subir', 'subir', 'entrar', 'nada'),\n",
       " ('subir', 'subir', 'bajar', 'nada'),\n",
       " ('salir', 'subir', 'bajar', 'nada'),\n",
       " ('bajar', 'salir', 'bajar', 'nada'),\n",
       " ('bajar', 'bajar', 'bajar', 'entrar'),\n",
       " ('entrar', 'bajar', 'salir', 'subir'),\n",
       " ('subir', 'bajar', 'entrar', 'subir'),\n",
       " ('salir', 'bajar', 'subir', 'subir'),\n",
       " ('bajar', 'nada', 'subir', 'salir'),\n",
       " ('bajar', 'nada', 'subir', 'nada'),\n",
       " ('entrar', 'nada', 'subir', 'nada'),\n",
       " ('subir', 'nada', 'salir', 'nada'),\n",
       " ('subir', 'subir', 'bajar', 'bajar'),\n",
       " ('subir', 'bajar', 'bajar', 'bajar'),\n",
       " ('salir', 'subir', 'bajar', 'bajar'),\n",
       " ('entrar', 'subir', 'bajar', 'entrar'),\n",
       " ('bajar', 'bajar', 'entrar', 'subir'),\n",
       " ('bajar', 'nada', 'subir', 'subir'),\n",
       " ('bajar', 'nada', 'subir', 'subir'),\n",
       " ('salir', 'nada', 'subir', 'subir'),\n",
       " ('nada', 'nada', 'subir', 'salir'),\n",
       " ('nada', 'nada', 'salir', 'nada'),\n",
       " ('nada', 'subir', 'nada', 'bajar'),\n",
       " ('nada', 'subir', 'nada', 'bajar'),\n",
       " ('nada', 'subir', 'nada', 'bajar'),\n",
       " ('nada', 'nada', 'nada', 'bajar'),\n",
       " ('nada', 'nada', 'nada', 'entrar'),\n",
       " ('nada', 'nada', 'nada', 'subir'),\n",
       " ('nada', 'nada', 'nada', 'salir')]"
      ]
     },
     "execution_count": 15,
     "metadata": {},
     "output_type": "execute_result"
    }
   ],
   "source": [
    "%%time\n",
    "uniform_cost_search(problema).solution()"
   ]
  },
  {
   "cell_type": "code",
   "execution_count": 14,
   "metadata": {},
   "outputs": [
    {
     "name": "stdout",
     "output_type": "stream",
     "text": [
      "Wall time: 23.5 s\n"
     ]
    },
    {
     "data": {
      "text/plain": [
       "[('subir', 'bajar', 'subir', 'bajar'),\n",
       " ('entrar', 'entrar', 'subir', 'nada'),\n",
       " ('subir', 'subir', 'subir', 'nada'),\n",
       " ('subir', 'subir', 'entrar', 'nada'),\n",
       " ('subir', 'subir', 'bajar', 'nada'),\n",
       " ('salir', 'subir', 'bajar', 'nada'),\n",
       " ('bajar', 'salir', 'bajar', 'nada'),\n",
       " ('bajar', 'bajar', 'bajar', 'entrar'),\n",
       " ('entrar', 'bajar', 'salir', 'subir'),\n",
       " ('subir', 'bajar', 'entrar', 'subir'),\n",
       " ('salir', 'bajar', 'subir', 'subir'),\n",
       " ('bajar', 'nada', 'subir', 'salir'),\n",
       " ('bajar', 'nada', 'subir', 'nada'),\n",
       " ('entrar', 'nada', 'subir', 'nada'),\n",
       " ('subir', 'nada', 'salir', 'nada'),\n",
       " ('subir', 'subir', 'bajar', 'bajar'),\n",
       " ('subir', 'bajar', 'bajar', 'bajar'),\n",
       " ('salir', 'subir', 'bajar', 'bajar'),\n",
       " ('entrar', 'subir', 'bajar', 'entrar'),\n",
       " ('bajar', 'bajar', 'entrar', 'subir'),\n",
       " ('bajar', 'nada', 'subir', 'subir'),\n",
       " ('bajar', 'nada', 'subir', 'subir'),\n",
       " ('salir', 'nada', 'subir', 'subir'),\n",
       " ('nada', 'nada', 'subir', 'salir'),\n",
       " ('nada', 'nada', 'salir', 'nada'),\n",
       " ('nada', 'subir', 'nada', 'bajar'),\n",
       " ('nada', 'subir', 'nada', 'bajar'),\n",
       " ('nada', 'subir', 'nada', 'bajar'),\n",
       " ('nada', 'nada', 'nada', 'bajar'),\n",
       " ('nada', 'nada', 'nada', 'entrar'),\n",
       " ('nada', 'nada', 'nada', 'subir'),\n",
       " ('nada', 'nada', 'nada', 'salir')]"
      ]
     },
     "execution_count": 14,
     "metadata": {},
     "output_type": "execute_result"
    }
   ],
   "source": [
    "%%time\n",
    "astar_search(problema, (lambda x: 1)).solution()"
   ]
  },
  {
   "cell_type": "code",
   "execution_count": null,
   "metadata": {},
   "outputs": [],
   "source": [
    "\n",
    "    "
   ]
  }
 ],
 "metadata": {
  "kernelspec": {
   "display_name": "Python 3",
   "language": "python",
   "name": "python3"
  },
  "language_info": {
   "codemirror_mode": {
    "name": "ipython",
    "version": 3
   },
   "file_extension": ".py",
   "mimetype": "text/x-python",
   "name": "python",
   "nbconvert_exporter": "python",
   "pygments_lexer": "ipython3",
   "version": "3.7.4"
  }
 },
 "nbformat": 4,
 "nbformat_minor": 2
}
