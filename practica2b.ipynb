{
 "cells": [
  {
   "cell_type": "code",
   "execution_count": 87,
   "metadata": {},
   "outputs": [],
   "source": [
    "# importamos las cosas que vamos a usar de aima\n",
    "from search import *\n",
    "import itertools\n",
    "class ProblemaAscensores(Problem):\n",
    "    def __init__(self, initial, final):\n",
    "        self.final = final\n",
    "        Problem.__init__(self, initial, final)\n",
    "        #initial = [((el piso que situa, (range de ascensor), ))]\n",
    "        \n",
    "    def goal_test(self,s):\n",
    "        result = list()\n",
    "        for i in range(len(s[1])):\n",
    "            if s[1][i] != self.final[i]:\n",
    "                result.append(s[1][i])\n",
    "        return len(result) == 0\n",
    "    \n",
    "    def actions(self, s):\n",
    "        acs = list()\n",
    "        accs = list()\n",
    "        \n",
    "        lista_de_nollegados = list()\n",
    "        for i in range(len(s[1])):\n",
    "            if s[1][i] != self.final[i]:\n",
    "                lista_de_nollegados.append(s[1][i])\n",
    "        \n",
    "        for asc in s[0]:\n",
    "            accaux = list()\n",
    "            if asc[2] == 0:\n",
    "                if asc[0] in lista_de_nollegados:\n",
    "                    accaux.append(\"entrar\")\n",
    "                else:\n",
    "                    pos_por_encima = list(filter(lambda x: (x >asc[0] and x <= asc[1][1]), lista_de_nollegados))\n",
    "                    pos_por_abajo = list(filter(lambda x: (x <asc[0] and x >= asc[1][0]), lista_de_nollegados))\n",
    "                    if len(pos_por_encima)>0:\n",
    "                        accaux.append(\"subir\")\n",
    "                    if len(pos_por_abajo)>0:\n",
    "                        accaux.append(\"bajar\")\n",
    "            else:\n",
    "                if asc[0] == s[3][1]:\n",
    "                    accaux.append(\"salir\")\n",
    "                 \n",
    "                elif asc[0] < s[3][1]:\n",
    "                    accaux.append(\"subir\")\n",
    "                else:\n",
    "                    accaux.append(\"bajar\")\n",
    "            accs.append(accaux)\n",
    "            del accaux\n",
    "        \n",
    "        for i in itertools.product(*accs):\n",
    "            acs.append(i)\n",
    "        return acs\n",
    "    def result(self, s, a):\n",
    "\n",
    "        lista_de_nollegados = list()\n",
    "        for i in range(len(s[1])):\n",
    "            if s[1][i] != self.final[i]:\n",
    "                lista_de_nollegados.append(s[1][i])\n",
    "\n",
    "        idc = 0\n",
    "        for acc in a:\n",
    "            if acc == \"entrar\":\n",
    "                pers_en_planta = list(filter(lambda x: (x == s[0][idc][0]), lista_de_nollegados))\n",
    "                i = 0\n",
    "                desplazamiento = 0\n",
    "                while i < len(pers_en_planta):\n",
    "                    j = 0\n",
    "                    while j < len(s[0]):\n",
    "                        pos = s[1][desplazamiento:].index(pers_en_planta[i])\n",
    "                        if (s[1][pos+desplazamiento] == self.final[pos+desplazamiento])or(s[0][j][2] == 1 and s[0][j][3][0] == pos + desplazamiento):\n",
    "                            desplazmiento+=pos+1\n",
    "                            break\n",
    "                        j+=1\n",
    "                    else: \n",
    "                        s[0][idc][3][0] = pos + desplazamiento\n",
    "                        s[0][idc][3][1] = self.final[pos+desplazamiento]\n",
    "                        s[0][idc][2] = 1\n",
    "                        break\n",
    "                    i+=1\n",
    "            elif acc == \"salir\":\n",
    "                s[0][idc][2] = 0\n",
    "            elif acc == \"subir\":\n",
    "                print(s[0][idc][0])\n",
    "                s[0][idc][0] += 1\n",
    "                if s[0][idc][2] == 1:\n",
    "                    pos_pers = s[0][idc][3][0]\n",
    "                    s[1][pos_pers] = s[0][idc][0]\n",
    "            else:\n",
    "                s[0][idc][0] -= 1\n",
    "                if s[0][idc][2] == 1:\n",
    "                    pos_pers = s[0][idc][3][0]\n",
    "                    s[1][pos_pers] = s[0][idc][0]    \n",
    "            idc += 1\n",
    "        return s\n",
    "                            \n",
    "                \n"
   ]
  },
  {
   "cell_type": "code",
   "execution_count": 3,
   "metadata": {},
   "outputs": [
    {
     "data": {
      "text/plain": [
       "[None, None, None, None]"
      ]
     },
     "execution_count": 3,
     "metadata": {},
     "output_type": "execute_result"
    }
   ],
   "source": [
    "import itertools\n",
    "acc = [['x'],['y']]\n",
    "acc2 = ['b', 'p']\n",
    "acc3 =list()\n",
    "acc4 = acc.copy()\n",
    "for i in range(4):\n",
    "    acc4 = acc.copy()\n",
    "    acc3.append(acc4[i%(len(acc4))].append(acc2[i%(len(acc2))]))\n",
    "acc3"
   ]
  },
  {
   "cell_type": "code",
   "execution_count": 4,
   "metadata": {},
   "outputs": [
    {
     "data": {
      "text/plain": [
       "[1, 2, 9]"
      ]
     },
     "execution_count": 4,
     "metadata": {},
     "output_type": "execute_result"
    }
   ],
   "source": [
    "acc = [1,2]\n",
    "acc2 = acc[:]\n",
    "acc2.append(9)\n",
    "acc.append(4)\n",
    "acc2"
   ]
  },
  {
   "cell_type": "code",
   "execution_count": 51,
   "metadata": {},
   "outputs": [
    {
     "name": "stdout",
     "output_type": "stream",
     "text": [
      "[['x', '2'], ['y'], 'x']\n",
      "[['x', '2'], ['y']]\n"
     ]
    }
   ],
   "source": [
    "acc = [['x'],['y']]\n",
    "acc2 = ['b', 'p']\n",
    "acc3 =list()\n",
    "acc4 = acc.copy()\n",
    "acc4.append('x')\n",
    "acc4[0].append('2')\n",
    "print(acc4)\n",
    "print(acc)"
   ]
  },
  {
   "cell_type": "code",
   "execution_count": 86,
   "metadata": {},
   "outputs": [
    {
     "data": {
      "text/plain": [
       "2"
      ]
     },
     "execution_count": 86,
     "metadata": {},
     "output_type": "execute_result"
    }
   ],
   "source": [
    "import itertools\n",
    "acc = list()\n",
    "accs = [[1,2,3],[2,3],[2],[5]]\n",
    "for i in itertools.product(*accs):\n",
    "    acc.append(i)\n",
    "acc[0][1]"
   ]
  },
  {
   "cell_type": "code",
   "execution_count": 78,
   "metadata": {},
   "outputs": [
    {
     "ename": "TypeError",
     "evalue": "list indices must be integers or slices, not str",
     "output_type": "error",
     "traceback": [
      "\u001b[1;31m---------------------------------------------------------------------------\u001b[0m",
      "\u001b[1;31mTypeError\u001b[0m                                 Traceback (most recent call last)",
      "\u001b[1;32m<ipython-input-78-240ca9525dbf>\u001b[0m in \u001b[0;36m<module>\u001b[1;34m\u001b[0m\n\u001b[0;32m      2\u001b[0m \u001b[0mdct\u001b[0m \u001b[1;33m=\u001b[0m \u001b[0mlist\u001b[0m\u001b[1;33m(\u001b[0m\u001b[1;33m)\u001b[0m\u001b[1;33m\u001b[0m\u001b[1;33m\u001b[0m\u001b[0m\n\u001b[0;32m      3\u001b[0m \u001b[1;32mfor\u001b[0m \u001b[0mi\u001b[0m \u001b[1;32min\u001b[0m \u001b[0mrange\u001b[0m\u001b[1;33m(\u001b[0m\u001b[0mlen\u001b[0m\u001b[1;33m(\u001b[0m\u001b[0ms\u001b[0m\u001b[1;33m)\u001b[0m\u001b[1;33m)\u001b[0m\u001b[1;33m:\u001b[0m\u001b[1;33m\u001b[0m\u001b[1;33m\u001b[0m\u001b[0m\n\u001b[1;32m----> 4\u001b[1;33m     \u001b[0mdct\u001b[0m\u001b[1;33m[\u001b[0m\u001b[1;34m'acc%s'\u001b[0m \u001b[1;33m%\u001b[0m \u001b[0mi\u001b[0m\u001b[1;33m]\u001b[0m \u001b[1;33m=\u001b[0m \u001b[1;33m[\u001b[0m\u001b[1;33m]\u001b[0m\u001b[1;33m\u001b[0m\u001b[1;33m\u001b[0m\u001b[0m\n\u001b[0m\u001b[0;32m      5\u001b[0m \u001b[0mdct\u001b[0m\u001b[1;33m[\u001b[0m\u001b[1;36m1\u001b[0m\u001b[1;33m]\u001b[0m\u001b[1;33m\u001b[0m\u001b[1;33m\u001b[0m\u001b[0m\n",
      "\u001b[1;31mTypeError\u001b[0m: list indices must be integers or slices, not str"
     ]
    }
   ],
   "source": [
    "s = [1,2,3,4]\n",
    "dct = list()\n",
    "for i in range(len(s)):\n",
    "    dct['acc%s' % i] = []\n",
    "dct[1]"
   ]
  },
  {
   "cell_type": "code",
   "execution_count": 82,
   "metadata": {},
   "outputs": [
    {
     "name": "stdout",
     "output_type": "stream",
     "text": [
      "[2]\n",
      "[2, 3]\n",
      "[2, 3, 4]\n",
      "[2, 3, 4, 5]\n",
      "[2, 3, 4, 5, 6]\n",
      "[2, 3, 4, 5, 6, 7]\n",
      "[2]\n",
      "[2, 3]\n",
      "[2, 3, 4]\n",
      "[2, 3, 4, 5]\n",
      "[2, 3, 4, 5, 6]\n",
      "[2, 3, 4, 5, 6, 7]\n",
      "[2]\n",
      "[2, 3]\n",
      "[2, 3, 4]\n",
      "[2, 3, 4, 5]\n",
      "[2, 3, 4, 5, 6]\n",
      "[2, 3, 4, 5, 6, 7]\n",
      "[2]\n",
      "[2, 3]\n",
      "[2, 3, 4]\n",
      "[2, 3, 4, 5]\n",
      "[2, 3, 4, 5, 6]\n",
      "[2, 3, 4, 5, 6, 7]\n"
     ]
    },
    {
     "data": {
      "text/plain": [
       "[[2, 3, 4, 5, 6, 7],\n",
       " [2, 3, 4, 5, 6, 7],\n",
       " [2, 3, 4, 5, 6, 7],\n",
       " [2, 3, 4, 5, 6, 7]]"
      ]
     },
     "execution_count": 82,
     "metadata": {},
     "output_type": "execute_result"
    }
   ],
   "source": [
    "n = [5,6,7,8]\n",
    "s = [1,2,3,4,5,6]\n",
    "acs = list()\n",
    "accs = list()\n",
    "for j in range(len(n)):\n",
    "    accaux = list()\n",
    "    for i in range(len(s)):\n",
    "        accaux.append(s[i]+1)\n",
    "        print(accaux)\n",
    "    accs.append(accaux)\n",
    "    del accaux\n",
    "accs"
   ]
  },
  {
   "cell_type": "code",
   "execution_count": 137,
   "metadata": {},
   "outputs": [
    {
     "data": {
      "text/plain": [
       "0"
      ]
     },
     "execution_count": 137,
     "metadata": {},
     "output_type": "execute_result"
    }
   ],
   "source": [
    "seq = [[1,2,3],[3,4,8,9]]\n",
    "seq[0].index(1)"
   ]
  },
  {
   "cell_type": "code",
   "execution_count": 143,
   "metadata": {},
   "outputs": [
    {
     "data": {
      "text/plain": [
       "0"
      ]
     },
     "execution_count": 143,
     "metadata": {},
     "output_type": "execute_result"
    }
   ],
   "source": [
    "estado = (0,2,1,3,4,7,6)\n",
    "l = list(estado)\n",
    "estado[5:].index(1)"
   ]
  },
  {
   "cell_type": "code",
   "execution_count": 147,
   "metadata": {},
   "outputs": [
    {
     "data": {
      "text/plain": [
       "100"
      ]
     },
     "execution_count": 147,
     "metadata": {},
     "output_type": "execute_result"
    }
   ],
   "source": [
    "i = 0\n",
    "while i < 100:\n",
    "    j = 0\n",
    "    while j < 2:\n",
    "        j+=1\n",
    "        break\n",
    "    i+=10\n",
    "i"
   ]
  },
  {
   "cell_type": "code",
   "execution_count": 149,
   "metadata": {},
   "outputs": [
    {
     "name": "stdout",
     "output_type": "stream",
     "text": [
      "[1]\n",
      "[2]\n",
      "[3]\n"
     ]
    }
   ],
   "source": [
    "s=[[[1],[2],[3]]]\n",
    "for asc in s[0]:\n",
    "    print(asc)"
   ]
  },
  {
   "cell_type": "code",
   "execution_count": 6,
   "metadata": {},
   "outputs": [
    {
     "data": {
      "text/plain": [
       "[2, 3]"
      ]
     },
     "execution_count": 6,
     "metadata": {},
     "output_type": "execute_result"
    }
   ],
   "source": [
    "s= [[],[1,2,3,4,5]]\n",
    "final = [1,3,2,4,5]\n",
    "result =[i for i, j in zip(s[1], final) if i != j]\n",
    "len(result)==0\n",
    "result"
   ]
  },
  {
   "cell_type": "code",
   "execution_count": 88,
   "metadata": {},
   "outputs": [
    {
     "data": {
      "text/plain": [
       "(10, 6)"
      ]
     },
     "execution_count": 88,
     "metadata": {},
     "output_type": "execute_result"
    }
   ],
   "source": [
    "ascensores = ProblemaAscensores((([0,(0,12),0,[0,0]],[0,(0,12),0,[0,0]]),[10,6]),(0, 2))\n",
    "ascensores.final = (10, 6)\n",
    "ascensores.final"
   ]
  },
  {
   "cell_type": "code",
   "execution_count": null,
   "metadata": {},
   "outputs": [],
   "source": []
  },
  {
   "cell_type": "code",
   "execution_count": 89,
   "metadata": {},
   "outputs": [
    {
     "name": "stdout",
     "output_type": "stream",
     "text": [
      "0\n",
      "0\n"
     ]
    },
    {
     "data": {
      "text/plain": [
       "(([1, (0, 12), 0, [0, 0]], [1, (0, 12), 0, [0, 0]]), [10, 6])"
      ]
     },
     "execution_count": 89,
     "metadata": {},
     "output_type": "execute_result"
    }
   ],
   "source": [
    "ascensores.actions(ascensores.initial)\n",
    "ascensores.result(ascensores.initial,('subir', 'subir'))"
   ]
  },
  {
   "cell_type": "code",
   "execution_count": 59,
   "metadata": {},
   "outputs": [
    {
     "data": {
      "text/plain": [
       "6"
      ]
     },
     "execution_count": 59,
     "metadata": {},
     "output_type": "execute_result"
    }
   ],
   "source": [
    "s = [1,23,4,5,4,6]\n",
    "len(s)"
   ]
  },
  {
   "cell_type": "code",
   "execution_count": 60,
   "metadata": {},
   "outputs": [
    {
     "data": {
      "text/plain": [
       "(0, 2)"
      ]
     },
     "execution_count": 60,
     "metadata": {},
     "output_type": "execute_result"
    }
   ],
   "source": [
    "ascensores.goal"
   ]
  },
  {
   "cell_type": "code",
   "execution_count": 55,
   "metadata": {},
   "outputs": [
    {
     "ename": "AttributeError",
     "evalue": "'list' object has no attribute 'initial'",
     "output_type": "error",
     "traceback": [
      "\u001b[1;31m---------------------------------------------------------------------------\u001b[0m",
      "\u001b[1;31mAttributeError\u001b[0m                            Traceback (most recent call last)",
      "\u001b[1;32m<ipython-input-55-6ba28137ac25>\u001b[0m in \u001b[0;36m<module>\u001b[1;34m\u001b[0m\n\u001b[1;32m----> 1\u001b[1;33m \u001b[0mbreadth_first_graph_search\u001b[0m\u001b[1;33m(\u001b[0m\u001b[0mascensores\u001b[0m\u001b[1;33m.\u001b[0m\u001b[0minitial\u001b[0m\u001b[1;33m)\u001b[0m\u001b[1;33m.\u001b[0m\u001b[0msolution\u001b[0m\u001b[1;33m(\u001b[0m\u001b[1;33m)\u001b[0m\u001b[1;33m\u001b[0m\u001b[1;33m\u001b[0m\u001b[0m\n\u001b[0m",
      "\u001b[1;32m~\\aima-python-master\\search.py\u001b[0m in \u001b[0;36mbreadth_first_graph_search\u001b[1;34m(problem)\u001b[0m\n\u001b[0;32m    238\u001b[0m     \u001b[1;32mreturn\u001b[0m \u001b[0mgraph_search\u001b[0m\u001b[1;33m(\u001b[0m\u001b[0mproblem\u001b[0m\u001b[1;33m,\u001b[0m \u001b[0mFIFOQueue\u001b[0m\u001b[1;33m(\u001b[0m\u001b[1;33m)\u001b[0m\u001b[1;33m)\u001b[0m\u001b[1;33m\u001b[0m\u001b[1;33m\u001b[0m\u001b[0m\n\u001b[0;32m    239\u001b[0m     \"\"\"\n\u001b[1;32m--> 240\u001b[1;33m     \u001b[0mnode\u001b[0m \u001b[1;33m=\u001b[0m \u001b[0mNode\u001b[0m\u001b[1;33m(\u001b[0m\u001b[0mproblem\u001b[0m\u001b[1;33m.\u001b[0m\u001b[0minitial\u001b[0m\u001b[1;33m)\u001b[0m\u001b[1;33m\u001b[0m\u001b[1;33m\u001b[0m\u001b[0m\n\u001b[0m\u001b[0;32m    241\u001b[0m     \u001b[1;32mif\u001b[0m \u001b[0mproblem\u001b[0m\u001b[1;33m.\u001b[0m\u001b[0mgoal_test\u001b[0m\u001b[1;33m(\u001b[0m\u001b[0mnode\u001b[0m\u001b[1;33m.\u001b[0m\u001b[0mstate\u001b[0m\u001b[1;33m)\u001b[0m\u001b[1;33m:\u001b[0m\u001b[1;33m\u001b[0m\u001b[1;33m\u001b[0m\u001b[0m\n\u001b[0;32m    242\u001b[0m         \u001b[1;32mreturn\u001b[0m \u001b[0mnode\u001b[0m\u001b[1;33m\u001b[0m\u001b[1;33m\u001b[0m\u001b[0m\n",
      "\u001b[1;31mAttributeError\u001b[0m: 'list' object has no attribute 'initial'"
     ]
    }
   ],
   "source": [
    "breadth_first_graph_search(ascensores.initial).solution()"
   ]
  },
  {
   "cell_type": "code",
   "execution_count": null,
   "metadata": {},
   "outputs": [],
   "source": []
  }
 ],
 "metadata": {
  "kernelspec": {
   "display_name": "Python 3",
   "language": "python",
   "name": "python3"
  },
  "language_info": {
   "codemirror_mode": {
    "name": "ipython",
    "version": 3
   },
   "file_extension": ".py",
   "mimetype": "text/x-python",
   "name": "python",
   "nbconvert_exporter": "python",
   "pygments_lexer": "ipython3",
   "version": "3.7.4"
  }
 },
 "nbformat": 4,
 "nbformat_minor": 2
}
